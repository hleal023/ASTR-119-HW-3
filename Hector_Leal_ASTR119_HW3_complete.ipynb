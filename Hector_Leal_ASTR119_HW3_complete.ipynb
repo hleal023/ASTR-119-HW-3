{
 "cells": [
  {
   "cell_type": "code",
   "execution_count": null,
   "metadata": {},
   "outputs": [],
   "source": [
    "import numpy as np\n",
    "import matplotlib.pyplot as plt\n",
    "%matplotlib inline"
   ]
  },
  {
   "cell_type": "code",
   "execution_count": null,
   "metadata": {},
   "outputs": [],
   "source": [
    "def function_for_roots(x):\n",
    "    return 1.01 * x**2 - 3.04 * x + 2.07"
   ]
  },
  {
   "cell_type": "code",
   "execution_count": null,
   "metadata": {},
   "outputs": [],
   "source": [
    "def check_initial_values(f, x_min, x_max, tol):\n",
    "    y_min = f(x_min)\n",
    "    y_max = f(x_max)\n",
    "    \n",
    "    if(y_min*y_max>=0.0):\n",
    "        print(\"No zero crossing found in the range = \",x_min, x_max)\n",
    "        s = \"f(%f) = %f, f(%f) = %f\" % (x_min, y_min, x_max, y_max)\n",
    "        print(s)\n",
    "        return 0\n",
    "    \n",
    "    if(np.fabs(y_min)<tol):\n",
    "        return 1\n",
    "    \n",
    "    if(np.fabs(y_max)<tol):\n",
    "        return 2\n",
    "    \n",
    "    return 3\n",
    "\n",
    "def bisection_root_finding(f, x_min_start, x_max_start, tol):\n",
    "    \n",
    "    x_min = x_min_start\n",
    "    x_max = x_max_start\n",
    "    x_mid = 0.0\n",
    "    \n",
    "    y_min = f(x_min)\n",
    "    y_max = f(x_max)\n",
    "    y_mid = 0.0\n",
    "    \n",
    "    imax = 10000\n",
    "    i = 0\n",
    "    \n",
    "    flag = check_initial_values(f, x_min, x_max, tol)\n",
    "    if(flag==0):\n",
    "        print(\"Error in bisection_root_finding().\")\n",
    "        raise ValueError('Initial values invalid',x_min, x_max)\n",
    "    elif(flag==1):\n",
    "        return x_min\n",
    "    elif(flag==2):\n",
    "        return x_max\n",
    "    \n",
    "    keep_going = True\n",
    "\n",
    "    while(keep_going):\n",
    "        print(i, x_min, f(x_min), x_max, f(x_max))\n",
    "        x_mid = 0.5*(x_min + x_max)\n",
    "        y_mid = f(x_mid)\n",
    "    \n",
    "        if(np.fabs(y_mid)<tol):\n",
    "            keep_going = False\n",
    "        else:\n",
    "            if(f(x_min)*f(x_mid)>0):\n",
    "                x_min = x_mid\n",
    "            else:\n",
    "                x_max = x_mid\n",
    "            \n",
    "    \n",
    "        i += 1\n",
    "        \n",
    "    if(i>=imax):\n",
    "            print(\"Exceeded max number of iterations = \", i)\n",
    "            s = \"Min bracket f(%f) = %f\" % (x_min, f(x_min))\n",
    "            print(s)\n",
    "            s = \"Max bracket f(%f) = %f\" % (x_max, f(x_max))\n",
    "            print(s)\n",
    "            s = \"mid bracket f(%f) = %f\" % (x_mid, f(x_mid))\n",
    "            print(s)\n",
    "            raise StopIteration('Stopping iterations after', i)\n",
    "        \n",
    "    return x_mid"
   ]
  },
  {
   "cell_type": "code",
   "execution_count": null,
   "metadata": {},
   "outputs": [],
   "source": [
    "x_mina = 0.5\n",
    "x_maxa = 1.4\n",
    "tolerance = 1.0e-6\n",
    "\n",
    "print(x_mina, function_for_roots(x_mina))\n",
    "print(x_maxa, function_for_roots(x_maxa))\n",
    "\n",
    "x_roota = bisection_root_finding(function_for_roots, x_mina, x_maxa, tolerance)\n",
    "y_roota = function_for_roots(x_roota)\n",
    "\n",
    "s1 = \"Root found with y(%f) = %f\" % (x_roota, y_roota)\n",
    "print(s1)\n",
    "#takes 15 iterations to converge"
   ]
  },
  {
   "cell_type": "code",
   "execution_count": null,
   "metadata": {},
   "outputs": [],
   "source": [
    "x_minb = 1.6\n",
    "x_maxb = 2.0\n",
    "tolerance = 1.0e-6\n",
    "\n",
    "print(x_minb, function_for_roots(x_minb))\n",
    "print(x_maxb, function_for_roots(x_maxb))\n",
    "\n",
    "x_rootb = bisection_root_finding(function_for_roots, x_minb, x_maxb, tolerance)\n",
    "y_rootb = function_for_roots(x_rootb)\n",
    "\n",
    "s2 = \"Root found with y(%f) = %f\" % (x_rootb, y_rootb)\n",
    "print(s2)\n",
    "#takes 14 iterations to converge "
   ]
  },
  {
   "cell_type": "code",
   "execution_count": null,
   "metadata": {},
   "outputs": [],
   "source": [
    "plt.plot(x, function_for_roots(x))\n",
    "plt.scatter(x_maxa, function_for_roots(x_maxa), label=\"Initial Bracket Values for Root 1\", marker=\"D\", color=\"b\" )\n",
    "plt.scatter(x_mina, function_for_roots(x_mina), marker=\"D\", color=\"b\")\n",
    "plt.scatter(x_maxb, function_for_roots(x_maxb), label=\"Initial Bracket Values for Root 2\", marker=\"D\", color=\"y\")\n",
    "plt.scatter(x_minb, function_for_roots(x_minb), marker=\"D\", color=\"y\")\n",
    "plt.scatter(x_roota, y_roota, label=\"Root 1\", color=\"r\")\n",
    "plt.scatter(x_rootb, y_rootb, label=\"Root 2\", color=\"c\")\n",
    "\n",
    "plt.legend(loc=\"upper center\" )\n",
    "plt.xlim(0, 3, 1000)\n",
    "plt.ylim(-.5, 2.1, 1000)\n",
    "plt.axhline(y = 0, color=\"k\", alpha=.5)\n",
    "plt.xlabel('x')\n",
    "plt.ylabel('y')"
   ]
  }
 ],
 "metadata": {
  "kernelspec": {
   "display_name": "Python 3",
   "language": "python",
   "name": "python3"
  },
  "language_info": {
   "codemirror_mode": {
    "name": "ipython",
    "version": 3
   },
   "file_extension": ".py",
   "mimetype": "text/x-python",
   "name": "python",
   "nbconvert_exporter": "python",
   "pygments_lexer": "ipython3",
   "version": "3.7.0"
  }
 },
 "nbformat": 4,
 "nbformat_minor": 2
}
